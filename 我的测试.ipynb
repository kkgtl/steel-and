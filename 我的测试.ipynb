{
  "nbformat": 4,
  "nbformat_minor": 0,
  "metadata": {
    "colab": {
      "provenance": [],
      "authorship_tag": "ABX9TyPPDFDMVrT0pks4aap4qYK4",
      "include_colab_link": true
    },
    "kernelspec": {
      "name": "python3",
      "display_name": "Python 3"
    },
    "language_info": {
      "name": "python"
    }
  },
  "cells": [
    {
      "cell_type": "markdown",
      "metadata": {
        "id": "view-in-github",
        "colab_type": "text"
      },
      "source": [
        "<a href=\"https://colab.research.google.com/github/kkgtl/steel-and/blob/master/%E6%88%91%E7%9A%84%E6%B5%8B%E8%AF%95.ipynb\" target=\"_parent\"><img src=\"https://colab.research.google.com/assets/colab-badge.svg\" alt=\"Open In Colab\"/></a>"
      ]
    },
    {
      "cell_type": "code",
      "execution_count": null,
      "metadata": {
        "id": "n-Dn9rgcdxj5"
      },
      "outputs": [],
      "source": [
        "我的测试"
      ]
    },
    {
      "cell_type": "markdown",
      "source": [
        "我的测试\n",
        "<a href=\"https://567seo.com/\" target=\"_blank\">蜘蛛池出租</a> ;\n",
        "<a href=\"https://567seo.com/\" target=\"_blank\">蜘蛛池</a> ;\n",
        "<a href=\"http://567seo.com/\" target=\"_blank\">蜘蛛池搭建</a> ;\n",
        "[![Image](https://github.com/user-attachments/assets/26ed36a0-f236-400a-bd2a-1dec51d5517d)](https://t.me/yuantou2048)\n"
      ],
      "metadata": {
        "id": "sO-LORajd1UW"
      }
    },
    {
      "cell_type": "markdown",
      "source": [
        "/content/blackjack巴西招商.txt"
      ],
      "metadata": {
        "id": "VjWepHpzf2P8"
      }
    }
  ]
}